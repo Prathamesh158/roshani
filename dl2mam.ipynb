{
 "cells": [
  {
   "cell_type": "code",
   "execution_count": 1,
   "id": "89694b45",
   "metadata": {},
   "outputs": [],
   "source": [
    "#Title:-Binary classification using Deep Neural Networks Example: Classify movie reviews into\n",
    "#positive\" reviews and \"negative\" reviews, just based on the text content of the reviews. Use IMDB dataset."
   ]
  },
  {
   "cell_type": "code",
   "execution_count": 2,
   "id": "1e5f3128",
   "metadata": {},
   "outputs": [],
   "source": [
    "import numpy as np\n",
    "from tensorflow import keras\n",
    "from tensorflow.keras.datasets import imdb\n",
    "from tensorflow.keras.models import Sequential\n",
    "from tensorflow.keras.layers import Dense, Dropout, Embedding, Flatten\n"
   ]
  },
  {
   "cell_type": "code",
   "execution_count": 3,
   "id": "275f9f07",
   "metadata": {},
   "outputs": [],
   "source": [
    "# Set parameters\n",
    "max_words = 10000 # Consider only the top 10,000 most frequently occurring words\n",
    "max_length = 250 # Limit the review length to 250 words\n",
    "embedding_size = 50 # Dimensionality of the word embeddings\n",
    "# Load the IMDB dataset\n",
    "(x_train, y_train), (x_test, y_test) = imdb.load_data(num_words=max_words)"
   ]
  },
  {
   "cell_type": "code",
   "execution_count": 4,
   "id": "8d8795b7",
   "metadata": {},
   "outputs": [],
   "source": [
    "# Preprocess the data\n",
    "#following function transforms a list of sequences into a 2D Numpy array\n",
    "x_train = keras.preprocessing.sequence.pad_sequences(x_train, maxlen=max_length)\n",
    "x_test = keras.preprocessing.sequence.pad_sequences(x_test, maxlen=max_length)"
   ]
  },
  {
   "cell_type": "code",
   "execution_count": 5,
   "id": "8ef16c90",
   "metadata": {},
   "outputs": [],
   "source": [
    "#in an embedding, words are represented by dense vectors where a vector represents the projection of the word into a continuous vector space.\n",
    "#The position of a word within the vector space is learned from text and is based on the words that surround the word when it is used.\n",
    "#The position of a word in the learned vector space is referred to as its embedding.\n",
    "\n",
    "#For example, below we define an Embedding layer with a vocabulary of 200 (e.g. integer encoded words from 0 to 199, inclusive), a vector space of 32 dimensions in which words will be embedded, and input documents that have 50 words each.\n",
    "#e = Embedding(200, 32, input_length=50)"
   ]
  },
  {
   "cell_type": "code",
   "execution_count": 6,
   "id": "ccb9d643",
   "metadata": {},
   "outputs": [],
   "source": [
    "# Build the model\n",
    "model = Sequential()\n",
    "#The Embedding layer is defined as the first hidden layer of a network.\n",
    "model.add(Embedding(max_words, embedding_size, input_length=max_length))\n",
    "#If you wish to connect a Dense layer directly to an Embedding layer, you must first flatten the 2D output matrix to a 1D vector using the Flatten layer.\n",
    "model.add(Flatten())\n",
    "model.add(Dense(128, activation='relu'))\n",
    "model.add(Dropout(0.5))\n",
    "model.add(Dense(1, activation='sigmoid'))"
   ]
  },
  {
   "cell_type": "code",
   "execution_count": 7,
   "id": "47ff4699",
   "metadata": {},
   "outputs": [],
   "source": [
    "# Compile the model\n",
    "model.compile(loss='binary_crossentropy', optimizer='adam', metrics=['accuracy'])"
   ]
  },
  {
   "cell_type": "code",
   "execution_count": 8,
   "id": "93fcb448",
   "metadata": {},
   "outputs": [
    {
     "name": "stdout",
     "output_type": "stream",
     "text": [
      "782/782 [==============================] - 20s 21ms/step - loss: 0.3855 - accuracy: 0.8135 - val_loss: 0.2968 - val_accuracy: 0.8726\n"
     ]
    },
    {
     "data": {
      "text/plain": [
       "<keras.callbacks.History at 0x181aa5796c0>"
      ]
     },
     "execution_count": 8,
     "metadata": {},
     "output_type": "execute_result"
    }
   ],
   "source": [
    "# Train the model\n",
    "batch_size = 32\n",
    "epochs = 1\n",
    "#model.fit(x_train, y_train, batch_size=batch_size, epochs=epochs, validation_split=0.05)\n",
    "model.fit(x_train, y_train, batch_size=batch_size, epochs=epochs, validation_data=(x_test, y_test))\n"
   ]
  },
  {
   "cell_type": "code",
   "execution_count": 9,
   "id": "6b6a2a63",
   "metadata": {},
   "outputs": [
    {
     "name": "stdout",
     "output_type": "stream",
     "text": [
      "782/782 [==============================] - 4s 5ms/step - loss: 0.2968 - accuracy: 0.8726\n",
      "Test Loss: 0.2967766523361206\n",
      "Test Accuracy: 0.8725600242614746\n"
     ]
    }
   ],
   "source": [
    "# Evaluate the model\n",
    "loss, accuracy = model.evaluate(x_test, y_test)\n",
    "print(\"Test Loss:\", loss)\n",
    "print(\"Test Accuracy:\", accuracy)"
   ]
  },
  {
   "cell_type": "code",
   "execution_count": null,
   "id": "ae425e57",
   "metadata": {},
   "outputs": [],
   "source": []
  }
 ],
 "metadata": {
  "kernelspec": {
   "display_name": "Python 3 (ipykernel)",
   "language": "python",
   "name": "python3"
  },
  "language_info": {
   "codemirror_mode": {
    "name": "ipython",
    "version": 3
   },
   "file_extension": ".py",
   "mimetype": "text/x-python",
   "name": "python",
   "nbconvert_exporter": "python",
   "pygments_lexer": "ipython3",
   "version": "3.10.9"
  }
 },
 "nbformat": 4,
 "nbformat_minor": 5
}
